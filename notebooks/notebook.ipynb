{
 "cells": [
  {
   "cell_type": "markdown",
   "id": "c5926fcd",
   "metadata": {},
   "source": [
    "Here, we illustrate the application of the HME framework.\n",
    "\n",
    "Before running this notebook, please ensure that you have completed the `Merge Model Weights` step in the README.md, along with all preceding steps."
   ]
  },
  {
   "cell_type": "markdown",
   "id": "cd001500",
   "metadata": {},
   "source": [
    "\n",
    "Let's start with the **Property QA task**. First, load the model to one GPU. "
   ]
  },
  {
   "cell_type": "code",
   "execution_count": null,
   "id": "d299f1c9",
   "metadata": {},
   "outputs": [
    {
     "name": "stderr",
     "output_type": "stream",
     "text": [
      "You are attempting to use Flash Attention 2.0 with a model not initialized on GPU. Make sure to move the model to GPU after initializing it on CPU with `model.to('cuda')`.\n"
     ]
    },
    {
     "data": {
      "application/vnd.jupyter.widget-view+json": {
       "model_id": "17729cf9b5904ac89567962bf83238d9",
       "version_major": 2,
       "version_minor": 0
      },
      "text/plain": [
       "Loading checkpoint shards:   0%|          | 0/4 [00:00<?, ?it/s]"
      ]
     },
     "metadata": {},
     "output_type": "display_data"
    },
    {
     "name": "stderr",
     "output_type": "stream",
     "text": [
      "/tmp/ipykernel_349107/1716790332.py:41: FutureWarning: You are using `torch.load` with `weights_only=False` (the current default value), which uses the default pickle module implicitly. It is possible to construct malicious pickle data which will execute arbitrary code during unpickling (See https://github.com/pytorch/pytorch/blob/main/SECURITY.md#untrusted-models for more details). In a future release, the default value for `weights_only` will be flipped to `True`. This limits the functions that could be executed during unpickling. Arbitrary objects will no longer be allowed to be loaded via this mode unless they are explicitly allowlisted by the user via `torch.serialization.add_safe_globals`. We recommend you start setting `weights_only=True` for any use case where you don't have full control of the loaded file. Please open an issue on GitHub for any issues related to this experimental feature.\n",
      "  model.feature_fuser.load_state_dict(torch.load(feature_fuser_path, map_location=DEVICE))\n"
     ]
    },
    {
     "name": "stdout",
     "output_type": "stream",
     "text": [
      "Model and tokenizer loaded successfully on cuda:0.\n"
     ]
    }
   ],
   "source": [
    "import torch\n",
    "from transformers import AutoTokenizer, AutoModelForCausalLM\n",
    "from rdkit import Chem\n",
    "from rdkit.Chem import Draw\n",
    "\n",
    "# Import the custom classes from our package\n",
    "from hme.modeling_llava import (\n",
    "    HMEForConditionalGeneration,\n",
    "    HMEForSequenceRegression,\n",
    "    HMEForSequenceClassification,\n",
    "    HMEConfig,\n",
    ")\n",
    "from hme.data import HMEProcessor,TrainHMECollator\n",
    "\n",
    "# --- Configuration ---\n",
    "MODEL_PATH = \"../checkpoints/HME_property-qa-2_merged\"\n",
    "DEVICE = \"cuda:0\" if torch.cuda.is_available() else \"cpu\"\n",
    "\n",
    "# --- Load Model Components ---\n",
    "# 1. Load the base language model and tokenizer\n",
    "language_model = AutoModelForCausalLM.from_pretrained(MODEL_PATH,torch_dtype=torch.bfloat16,attn_implementation=\"flash_attention_2\").to(DEVICE)\n",
    "tokenizer = AutoTokenizer.from_pretrained(MODEL_PATH)\n",
    "tokenizer.padding_side = \"left\" # Important for generation\n",
    "\n",
    "# 2. Create the full HME model architecture\n",
    "config=HMEConfig(text_config=language_model.config,\n",
    "                molecule_2d_hidden_size=300,\n",
    "                molecule_3d_hidden_size=512,\n",
    "                protein_hidden_size=128,\n",
    "                ignore_index=-100,\n",
    "                modal_padding=-100,\n",
    "                projector_hidden_act=\"gelu\",\n",
    "                protein_token_index=tokenizer.convert_tokens_to_ids(\"<protein>\"),\n",
    "                molecule_2d_token_index=tokenizer.convert_tokens_to_ids(\"<molecule_2d>\"),\n",
    "                molecule_3d_token_index=tokenizer.convert_tokens_to_ids(\"<molecule_3d>\"),\n",
    "        )\n",
    "model = HMEForConditionalGeneration(config, language_model)\n",
    "\n",
    "# 3. Load our custom trained weights (the feature fuser)\n",
    "feature_fuser_path = f\"{MODEL_PATH}/feature_fuser.pth\"\n",
    "model.feature_fuser.load_state_dict(torch.load(feature_fuser_path, map_location=DEVICE))\n",
    "model.to(DEVICE).eval().to(torch.bfloat16)\n",
    "\n",
    "# 4. Create the HME Processor, Collator\n",
    "processor = HMEProcessor(tokenizer=tokenizer, max_length=512)\n",
    "data_collator = TrainHMECollator(processor=processor, config=config)\n",
    "\n",
    "print(f\"Model and tokenizer loaded successfully on {DEVICE}.\")"
   ]
  },
  {
   "cell_type": "markdown",
   "id": "c770f9ca",
   "metadata": {},
   "source": [
    "Load the dataset used for demonstration. Here we directly load the test set and use one sample as demonstration.\n"
   ]
  },
  {
   "cell_type": "code",
   "execution_count": null,
   "id": "9bf88b5c",
   "metadata": {},
   "outputs": [
    {
     "name": "stdout",
     "output_type": "stream",
     "text": [
      "\n",
      "--- Loading Demo Data Sample ---\n"
     ]
    },
    {
     "name": "stderr",
     "output_type": "stream",
     "text": [
      "/home/lvliuzhenghao/llzh/HME/src/hme/data.py:84: FutureWarning: You are using `torch.load` with `weights_only=False` (the current default value), which uses the default pickle module implicitly. It is possible to construct malicious pickle data which will execute arbitrary code during unpickling (See https://github.com/pytorch/pytorch/blob/main/SECURITY.md#untrusted-models for more details). In a future release, the default value for `weights_only` will be flipped to `True`. This limits the functions that could be executed during unpickling. Arbitrary objects will no longer be allowed to be loaded via this mode unless they are explicitly allowlisted by the user via `torch.serialization.add_safe_globals`. We recommend you start setting `weights_only=True` for any use case where you don't have full control of the loaded file. Please open an issue on GitHub for any issues related to this experimental feature.\n",
      "  torch.load(emb_dict_mol, map_location=\"cpu\")\n"
     ]
    },
    {
     "name": "stdout",
     "output_type": "stream",
     "text": [
      "Now the length of the dataset is 311868\n",
      "Successfully loaded one sample for demonstration.\n",
      "Molecule SMILES: C[C@@]12CC[C@H](O)C[C@H]1CC[C@@H]1[C@H]2CC[C@@]2(C)C(=O)CC[C@@H]12\n",
      "2D Features Shape: torch.Size([1, 21, 300])\n",
      "3D Features Shape: torch.Size([1, 51, 512])\n",
      "Question: I need to know the HOMO of this molecule, could you please provide it? If uncertain, provide an estimate. Respond with the numerical value only.\n"
     ]
    },
    {
     "data": {
      "image/jpeg": "[encoded data removed]",
      "image/png": "[encoded data removed]",
      "text/plain": [
       "<PIL.PngImagePlugin.PngImageFile image mode=RGB size=300x300>"
      ]
     },
     "execution_count": 2,
     "metadata": {},
     "output_type": "execute_result"
    }
   ],
   "source": [
    "from hme.data import HMEDataset\n",
    "# --- Load Demo Data ---\n",
    "TEST_DATA_JSON_PATH='../datasets/property_qa_test_2.json'\n",
    "MOL_EMBEDDINGS_PT_PATH='../datasets/property_qa_test_2.json.cfm.pt'\n",
    "print(\"\\n--- Loading Demo Data Sample ---\")\n",
    "\n",
    "# We specify the task_type and data_type required by this sample\n",
    "demo_dataset = HMEDataset(\n",
    "    data_path=TEST_DATA_JSON_PATH,\n",
    "    task_type='qa',\n",
    "    data_type='1d,2d,3d,frg',  ##we use 1D,2D,3D,Fragment features as the multi-modal inputs\n",
    "    emb_dict_mol=MOL_EMBEDDINGS_PT_PATH,\n",
    "    emb_dict_protein='none'\n",
    ")\n",
    "\n",
    "# Fetch the first sample from the dataset\n",
    "# This returns a list: [question, answer, 2d_features, 3d_features, protein_features]\n",
    "data_sample = demo_dataset[0]\n",
    "prompt_template, ground_truth_answer, mol_2d_features, mol_3d_features, _ = data_sample\n",
    "\n",
    "# Prepare features for inference (add batch dimension and move to device)\n",
    "mol_2d_features = mol_2d_features.unsqueeze(0).to(DEVICE)\n",
    "mol_3d_features = mol_3d_features.unsqueeze(0).to(DEVICE)\n",
    "\n",
    "# Get the SMILES string for visualization\n",
    "smiles_for_demo = demo_dataset.json_list[0]['smiles']\n",
    "mol_for_demo = Chem.MolFromSmiles(smiles_for_demo)\n",
    "\n",
    "print(\"Successfully loaded one sample for demonstration.\")\n",
    "print(f\"Molecule SMILES: {smiles_for_demo}\")\n",
    "print(f\"2D Features Shape: {mol_2d_features.shape}\")\n",
    "print(f\"3D Features Shape: {mol_3d_features.shape}\")\n",
    "print(f\"Question: {demo_dataset.json_list[0]['instruction']}\")\n",
    "Draw.MolToImage(mol_for_demo)"
   ]
  },
  {
   "cell_type": "markdown",
   "id": "b2a6e2c5",
   "metadata": {},
   "source": [
    "Run the model, perform inference, and display the model's answer and Groud Truth.\n",
    "\n",
    "If you want to get the full results on the test set, run our bash script in ./scripts/eval_property-qa-2.sh"
   ]
  },
  {
   "cell_type": "code",
   "execution_count": null,
   "id": "0e9ede41",
   "metadata": {},
   "outputs": [
    {
     "name": "stdout",
     "output_type": "stream",
     "text": [
      "I need to know the HOMO of this molecule, could you please provide it? If uncertain, provide an estimate. Respond with the numerical value only. Molecular 2D features are: <molecule_2d><molecule_2d><molecule_2d><molecule_2d><molecule_2d><molecule_2d><molecule_2d><molecule_2d>. Molecular 3D features are: <molecule_3d><molecule_3d><molecule_3d><molecule_3d><molecule_3d><molecule_3d><molecule_3d><molecule_3d><molecule_3d><molecule_3d><molecule_3d><molecule_3d><molecule_3d><molecule_3d><molecule_3d><molecule_3d>. Molecular SMILES is: C[C@@]12CC[C@H](O)C[C@H]1CC[C@@H]1[C@H]2CC[C@@]2(C)C(=O)CC[C@@H]12. Molecular fragments are: <|CCCC=O|><|CCCCCCO|><|CCCCC|><|CCCC|>.\n"
     ]
    },
    {
     "name": "stderr",
     "output_type": "stream",
     "text": [
      "We detected that you are passing `past_key_values` as a tuple and this is deprecated and will be removed in v4.43. Please use an appropriate `Cache` class (https://huggingface.co/docs/transformers/v4.41.3/en/internal/generation_utils#transformers.Cache)\n"
     ]
    },
    {
     "name": "stdout",
     "output_type": "stream",
     "text": [
      "--- Multi-Modal Prompt ---\n",
      "I need to know the HOMO of this molecule, could you please provide it? If uncertain, provide an estimate. Respond with the numerical value only. Molecular 2D features are: <molecule_2d><molecule_2d><molecule_2d><molecule_2d><molecule_2d><molecule_2d><molecule_2d><molecule_2d>. Molecular 3D features are: <molecule_3d><molecule_3d><molecule_3d><molecule_3d><molecule_3d><molecule_3d><molecule_3d><molecule_3d><molecule_3d><molecule_3d><molecule_3d><molecule_3d><molecule_3d><molecule_3d><molecule_3d><molecule_3d>. Molecular SMILES is: C[C@@]12CC[C@H](O)C[C@H]1CC[C@@H]1[C@H]2CC[C@@]2(C)C(=O)CC[C@@H]12. Molecular fragments are: <|CCCC=O|><|CCCCCCO|><|CCCCC|><|CCCC|>.\n",
      "\n",
      "--- Ground Truth Answer ---\n",
      "The HOMO for the input molecule is -6.318 eV.\n",
      "\n",
      "--- Model Response ---\n",
      " HOMO for the input molecule is -6.299 eV.\n"
     ]
    }
   ],
   "source": [
    "# The prompt comes directly from our loaded data sample\n",
    "prompt_multi_modal = prompt_template\n",
    "# Use the HMEProcessor to correctly combine text and modal features\n",
    "inputs_multi_modal = processor(\n",
    "    text=prompt_multi_modal,\n",
    "    molecule_raw_2d_features=mol_2d_features,\n",
    "    molecule_raw_3d_features=mol_3d_features,\n",
    "    return_tensors=\"pt\"\n",
    ")\n",
    "\n",
    "# Move the data from cpu to DEVICE\n",
    "inputs_multi_modal = {\n",
    "    k: v.to(DEVICE) if isinstance(v, torch.Tensor) else v\n",
    "    for k, v in inputs_multi_modal.items()\n",
    "}\n",
    "\n",
    "# Generate a response\n",
    "with torch.no_grad():\n",
    "    output_ids_mm = model.generate(\n",
    "        **inputs_multi_modal,\n",
    "        max_new_tokens=100,\n",
    "        do_sample=False,\n",
    "        eos_token_id=tokenizer.eos_token_id,\n",
    "    )\n",
    "\n",
    "# Decode and print the response\n",
    "response_ids_mm = output_ids_mm[:, inputs_multi_modal['input_ids'].shape[1]:]\n",
    "response_text_mm = tokenizer.batch_decode(response_ids_mm, skip_special_tokens=True)[0]\n",
    "\n",
    "print(\"--- Multi-Modal Prompt ---\")\n",
    "print(prompt_multi_modal)\n",
    "print(\"\\n--- Ground Truth Answer ---\")\n",
    "print(ground_truth_answer)\n",
    "print(\"\\n--- Model Response ---\")\n",
    "print(response_text_mm)"
   ]
  },
  {
   "cell_type": "markdown",
   "id": "a739c30b",
   "metadata": {},
   "source": [
    "--------------------------------"
   ]
  },
  {
   "cell_type": "markdown",
   "id": "33ac3c71",
   "metadata": {},
   "source": [
    "Then, we proceed with the **General QA** task. \n",
    "\n",
    "Load the model. (You can restart this notebook before running the cell below to prevent memory overflow caused by the previous model still occupying GPU memory.)"
   ]
  },
  {
   "cell_type": "code",
   "execution_count": 1,
   "id": "29eb19fc",
   "metadata": {},
   "outputs": [
    {
     "name": "stderr",
     "output_type": "stream",
     "text": [
      "/home/liuyuyang/miniconda3/envs/hme/lib/python3.10/site-packages/tqdm/auto.py:21: TqdmWarning: IProgress not found. Please update jupyter and ipywidgets. See https://ipywidgets.readthedocs.io/en/stable/user_install.html\n",
      "  from .autonotebook import tqdm as notebook_tqdm\n",
      "You are attempting to use Flash Attention 2.0 with a model not initialized on GPU. Make sure to move the model to GPU after initializing it on CPU with `model.to('cuda')`.\n",
      "Loading checkpoint shards: 100%|██████████| 4/4 [00:00<00:00,  6.30it/s]\n",
      "/tmp/ipykernel_494925/622397646.py:41: FutureWarning: You are using `torch.load` with `weights_only=False` (the current default value), which uses the default pickle module implicitly. It is possible to construct malicious pickle data which will execute arbitrary code during unpickling (See https://github.com/pytorch/pytorch/blob/main/SECURITY.md#untrusted-models for more details). In a future release, the default value for `weights_only` will be flipped to `True`. This limits the functions that could be executed during unpickling. Arbitrary objects will no longer be allowed to be loaded via this mode unless they are explicitly allowlisted by the user via `torch.serialization.add_safe_globals`. We recommend you start setting `weights_only=True` for any use case where you don't have full control of the loaded file. Please open an issue on GitHub for any issues related to this experimental feature.\n",
      "  model.feature_fuser.load_state_dict(torch.load(feature_fuser_path, map_location=DEVICE))\n"
     ]
    },
    {
     "name": "stdout",
     "output_type": "stream",
     "text": [
      "Model and tokenizer loaded successfully on cuda:0.\n"
     ]
    }
   ],
   "source": [
    "import torch\n",
    "from transformers import AutoTokenizer, AutoModelForCausalLM\n",
    "from rdkit import Chem\n",
    "from rdkit.Chem import Draw\n",
    "\n",
    "# Import the custom classes from our package\n",
    "from hme.modeling_llava import (\n",
    "    HMEForConditionalGeneration,\n",
    "    HMEForSequenceRegression,\n",
    "    HMEForSequenceClassification,\n",
    "    HMEConfig,\n",
    ")\n",
    "from hme.data import HMEProcessor,TrainHMECollator\n",
    "\n",
    "# --- Configuration ---\n",
    "MODEL_PATH = \"../checkpoints/HME_general-qa_merged\"\n",
    "DEVICE = \"cuda:0\" if torch.cuda.is_available() else \"cpu\"\n",
    "\n",
    "# --- Load Model Components ---\n",
    "# 1. Load the base language model and tokenizer\n",
    "language_model = AutoModelForCausalLM.from_pretrained(MODEL_PATH,torch_dtype=torch.bfloat16,attn_implementation=\"flash_attention_2\").to(DEVICE)\n",
    "tokenizer = AutoTokenizer.from_pretrained(MODEL_PATH)\n",
    "tokenizer.padding_side = \"left\" # Important for generation\n",
    "\n",
    "# 2. Create the full HME model architecture\n",
    "config=HMEConfig(text_config=language_model.config,\n",
    "                molecule_2d_hidden_size=300,\n",
    "                molecule_3d_hidden_size=512,\n",
    "                protein_hidden_size=128,\n",
    "                ignore_index=-100,\n",
    "                modal_padding=-100,\n",
    "                projector_hidden_act=\"gelu\",\n",
    "                protein_token_index=tokenizer.convert_tokens_to_ids(\"<protein>\"),\n",
    "                molecule_2d_token_index=tokenizer.convert_tokens_to_ids(\"<molecule_2d>\"),\n",
    "                molecule_3d_token_index=tokenizer.convert_tokens_to_ids(\"<molecule_3d>\"),\n",
    "        )\n",
    "model = HMEForConditionalGeneration(config, language_model)\n",
    "\n",
    "# 3. Load our custom trained weights (the feature fuser)\n",
    "feature_fuser_path = f\"{MODEL_PATH}/feature_fuser.pth\"\n",
    "model.feature_fuser.load_state_dict(torch.load(feature_fuser_path, map_location=DEVICE))\n",
    "model.to(DEVICE).eval().to(torch.bfloat16)\n",
    "\n",
    "# 4. Create the HME Processor, Collator\n",
    "processor = HMEProcessor(tokenizer=tokenizer, max_length=512)\n",
    "data_collator = TrainHMECollator(processor=processor, config=config)\n",
    "\n",
    "print(f\"Model and tokenizer loaded successfully on {DEVICE}.\")"
   ]
  },
  {
   "cell_type": "markdown",
   "id": "ca6511b0",
   "metadata": {},
   "source": [
    "Load the dataset used for demonstration. Here we directly load the test set and use one sample as demonstration.\n"
   ]
  },
  {
   "cell_type": "code",
   "execution_count": null,
   "id": "ef3a319f",
   "metadata": {},
   "outputs": [
    {
     "name": "stdout",
     "output_type": "stream",
     "text": [
      "\n",
      "--- Loading Demo Data Sample ---\n",
      "Now the length of the dataset is 10000\n",
      "Successfully loaded one sample for demonstration.\n",
      "Molecule SMILES: CCCCCCCC(=O)C(C)C(=O)N1C=CCC1\n",
      "2D Features Shape: torch.Size([1, 18, 300])\n",
      "3D Features Shape: torch.Size([1, 43, 512])\n",
      "Question:What class does this molecule belong to?\n"
     ]
    },
    {
     "data": {
      "image/jpeg": "[encoded data removed]",
      "image/png": "[encoded data removed]",
      "text/plain": [
       "<PIL.PngImagePlugin.PngImageFile image mode=RGB size=300x300>"
      ]
     },
     "execution_count": 10,
     "metadata": {},
     "output_type": "execute_result"
    }
   ],
   "source": [
    "from hme.data import HMEDataset\n",
    "# --- Load Demo Data ---\n",
    "TEST_DATA_JSON_PATH='../datasets/general_qa_test.json'\n",
    "MOL_EMBEDDINGS_PT_PATH='../datasets/pubchem_train_test.json.cfm.pt'\n",
    "print(\"\\n--- Loading Demo Data Sample ---\")\n",
    "\n",
    "# We specify the task_type and data_type required by this sample\n",
    "demo_dataset = HMEDataset(\n",
    "    data_path=TEST_DATA_JSON_PATH,\n",
    "    task_type='qa',\n",
    "    data_type='1d,2d,3d,frg',  ##we use 1D,2D,3D,Fragment features as the multi-modal inputs\n",
    "    emb_dict_mol=MOL_EMBEDDINGS_PT_PATH,\n",
    "    emb_dict_protein='none'\n",
    ")\n",
    "\n",
    "\n",
    "# This returns a list: [question, answer, 2d_features, 3d_features, protein_features]\n",
    "data_sample = demo_dataset[21]\n",
    "prompt_template, ground_truth_answer, mol_2d_features, mol_3d_features, _ = data_sample\n",
    "\n",
    "# Prepare features for inference (add batch dimension and move to device)\n",
    "mol_2d_features = mol_2d_features.unsqueeze(0).to(DEVICE)\n",
    "mol_3d_features = mol_3d_features.unsqueeze(0).to(DEVICE)\n",
    "\n",
    "# Get the SMILES string for visualization\n",
    "smiles_for_demo = demo_dataset.json_list[21]['smiles']\n",
    "mol_for_demo = Chem.MolFromSmiles(smiles_for_demo)\n",
    "\n",
    "print(\"Successfully loaded one sample for demonstration.\")\n",
    "print(f\"Molecule SMILES: {smiles_for_demo}\")\n",
    "print(f\"2D Features Shape: {mol_2d_features.shape}\")\n",
    "print(f\"3D Features Shape: {mol_3d_features.shape}\")\n",
    "print(f\"Question:{demo_dataset.json_list[21]['instruction']}\")\n",
    "Draw.MolToImage(mol_for_demo)"
   ]
  },
  {
   "cell_type": "markdown",
   "id": "3e4e80c8",
   "metadata": {},
   "source": [
    "Run the model, perform inference, and display the model's answer and Groud Truth.\n",
    "\n",
    "If you want to get the full results on the test set, run our bash script in ./scripts/eval_general-qa.sh"
   ]
  },
  {
   "cell_type": "code",
   "execution_count": 11,
   "id": "efdcda58",
   "metadata": {},
   "outputs": [
    {
     "name": "stderr",
     "output_type": "stream",
     "text": [
      "We detected that you are passing `past_key_values` as a tuple and this is deprecated and will be removed in v4.43. Please use an appropriate `Cache` class (https://huggingface.co/docs/transformers/v4.41.3/en/internal/generation_utils#transformers.Cache)\n"
     ]
    },
    {
     "name": "stdout",
     "output_type": "stream",
     "text": [
      "--- Multi-Modal Prompt ---\n",
      "What class does this molecule belong to? Molecular 2D features are: <molecule_2d><molecule_2d><molecule_2d><molecule_2d><molecule_2d><molecule_2d><molecule_2d><molecule_2d>. Molecular 3D features are: <molecule_3d><molecule_3d><molecule_3d><molecule_3d><molecule_3d><molecule_3d><molecule_3d><molecule_3d><molecule_3d><molecule_3d><molecule_3d><molecule_3d><molecule_3d><molecule_3d><molecule_3d><molecule_3d>. Molecular SMILES is: CCCCCCCC(=O)C(C)C(=O)N1C=CCC1. Molecular fragments are: <|CCC(=O)NC|><|CCCC=O|><|CCCC|><|CCC|>.\n",
      "\n",
      "--- Ground Truth Answer ---\n",
      "This molecule belongs to the class of pyrroles.\n",
      "\n",
      "--- Model Response ---\n",
      " This molecule belongs to the class of pyrroles.\n"
     ]
    }
   ],
   "source": [
    "# The prompt comes directly from our loaded data sample\n",
    "prompt_multi_modal = prompt_template\n",
    "# Use the HMEProcessor to correctly combine text and modal features\n",
    "inputs_multi_modal = processor(\n",
    "    text=prompt_multi_modal,\n",
    "    molecule_raw_2d_features=mol_2d_features,\n",
    "    molecule_raw_3d_features=mol_3d_features,\n",
    "    return_tensors=\"pt\"\n",
    ")\n",
    "\n",
    "inputs_multi_modal = {\n",
    "    k: v.to(DEVICE) if isinstance(v, torch.Tensor) else v\n",
    "    for k, v in inputs_multi_modal.items()\n",
    "}\n",
    "\n",
    "# Generate a response\n",
    "with torch.no_grad():\n",
    "    output_ids_mm = model.generate(\n",
    "        **inputs_multi_modal,\n",
    "        max_new_tokens=100,\n",
    "        do_sample=False,\n",
    "        eos_token_id=tokenizer.eos_token_id,\n",
    "    )\n",
    "\n",
    "# Decode and print the response\n",
    "response_ids_mm = output_ids_mm[:, inputs_multi_modal['input_ids'].shape[1]:]\n",
    "response_text_mm = tokenizer.batch_decode(response_ids_mm, skip_special_tokens=True)[0]\n",
    "\n",
    "print(\"--- Multi-Modal Prompt ---\")\n",
    "print(prompt_multi_modal)\n",
    "print(\"\\n--- Ground Truth Answer ---\")\n",
    "print(ground_truth_answer)\n",
    "print(\"\\n--- Model Response ---\")\n",
    "print(response_text_mm)"
   ]
  },
  {
   "cell_type": "markdown",
   "id": "f3e37beb",
   "metadata": {},
   "source": [
    "-----------------------------"
   ]
  },
  {
   "cell_type": "markdown",
   "id": "1d35df73",
   "metadata": {},
   "source": [
    "Afterwards, we show the model's performance on the **Description-based Molecular Generation** task. For this task, molecular 2D and 3D features are not involved, so there is no need to load feature_fuser.\n",
    "\n",
    "Load the model. (You can restart this notebook before running the cell below to prevent memory overflow caused by the previous model still occupying GPU memory.)"
   ]
  },
  {
   "cell_type": "code",
   "execution_count": null,
   "id": "a78e03fc",
   "metadata": {},
   "outputs": [
    {
     "name": "stderr",
     "output_type": "stream",
     "text": [
      "You are attempting to use Flash Attention 2.0 with a model not initialized on GPU. Make sure to move the model to GPU after initializing it on CPU with `model.to('cuda')`.\n"
     ]
    },
    {
     "data": {
      "application/vnd.jupyter.widget-view+json": {
       "model_id": "14a191cc55d84c909eae7dc37e4da195",
       "version_major": 2,
       "version_minor": 0
      },
      "text/plain": [
       "Loading checkpoint shards:   0%|          | 0/4 [00:00<?, ?it/s]"
      ]
     },
     "metadata": {},
     "output_type": "display_data"
    },
    {
     "name": "stdout",
     "output_type": "stream",
     "text": [
      "Model and tokenizer loaded successfully on cuda:0.\n"
     ]
    }
   ],
   "source": [
    "import torch\n",
    "from transformers import AutoTokenizer, AutoModelForCausalLM\n",
    "from rdkit import Chem\n",
    "from rdkit.Chem import Draw\n",
    "\n",
    "# Import the custom classes from our package\n",
    "from hme.modeling_llava import (\n",
    "    HMEForConditionalGeneration,\n",
    "    HMEForSequenceRegression,\n",
    "    HMEForSequenceClassification,\n",
    "    HMEConfig,\n",
    ")\n",
    "from hme.data import HMEProcessor,TrainHMECollator\n",
    "\n",
    "# --- Configuration ---\n",
    "MODEL_PATH = \"../checkpoints/HME_description-based-molecular-generation_merged\"\n",
    "DEVICE = \"cuda:0\" if torch.cuda.is_available() else \"cpu\"\n",
    "\n",
    "# --- Load Model Components ---\n",
    "# 1. Load the base language model and tokenizer\n",
    "language_model = AutoModelForCausalLM.from_pretrained(MODEL_PATH,torch_dtype=torch.bfloat16,attn_implementation=\"flash_attention_2\").to(DEVICE)\n",
    "tokenizer = AutoTokenizer.from_pretrained(MODEL_PATH)\n",
    "tokenizer.padding_side = \"left\" # Important for generation\n",
    "\n",
    "# 2. Create the full HME model architecture\n",
    "config=HMEConfig(text_config=language_model.config,\n",
    "                    molecule_2d_hidden_size=300,\n",
    "                    molecule_3d_hidden_size=512,\n",
    "                    protein_hidden_size=128,\n",
    "                    ignore_index=-100,\n",
    "                    modal_padding=-100,\n",
    "                    projector_hidden_act=\"gelu\",\n",
    "                    protein_token_index=tokenizer.convert_tokens_to_ids(\"<protein>\"),\n",
    "                    molecule_2d_token_index=tokenizer.convert_tokens_to_ids(\"<molecule_2d>\"),\n",
    "                    molecule_3d_token_index=tokenizer.convert_tokens_to_ids(\"<molecule_3d>\"),\n",
    "        )\n",
    "model = HMEForConditionalGeneration(config, language_model)\n",
    "\n",
    "model.to(DEVICE).eval().to(torch.bfloat16)\n",
    "\n",
    "# 3. Create the HME Processor, Collator\n",
    "processor = HMEProcessor(tokenizer=tokenizer, max_length=512)\n",
    "data_collator = TrainHMECollator(processor=processor, config=config)\n",
    "\n",
    "print(f\"Model and tokenizer loaded successfully on {DEVICE}.\")"
   ]
  },
  {
   "cell_type": "markdown",
   "id": "5280ce6b",
   "metadata": {},
   "source": [
    "Load the dataset used for demonstration. Here we directly load the test set and use one sample as demonstration.\n"
   ]
  },
  {
   "cell_type": "code",
   "execution_count": null,
   "id": "19b198cb",
   "metadata": {},
   "outputs": [
    {
     "name": "stdout",
     "output_type": "stream",
     "text": [
      "\n",
      "--- Loading Demo Data Sample ---\n",
      "Successfully loaded one sample for demonstration.\n",
      "Description: The molecule is a N-arylpiperazine that is piperazine carrying a 3-chlorophenyl substituent at position 1. It is a metabolite of the antidepressant drug trazodone. It has a role as a drug metabolite, a serotonergic agonist, an environmental contaminant and a xenobiotic. It is a N-arylpiperazine and a member of monochlorobenzenes.\n"
     ]
    }
   ],
   "source": [
    "from hme.data import HMEDataset\n",
    "# --- Load Demo Data ---\n",
    "TEST_DATA_JSON_PATH='../datasets/desc2mol_test.json'\n",
    "print(\"\\n--- Loading Demo Data Sample ---\")\n",
    "# We specify the task_type and data_type required by this sample\n",
    "demo_dataset = HMEDataset(\n",
    "    data_path=TEST_DATA_JSON_PATH,\n",
    "    task_type='text2frgsmi',\n",
    "    data_type='1d,frg',  ##we use 1D,2D,3D,Fragment features as the multi-modal inputs\n",
    "    emb_dict_mol='none',\n",
    "    emb_dict_protein='none'\n",
    ")\n",
    "\n",
    "\n",
    "# This returns a list: [question, answer, 2d_features, 3d_features, protein_features]\n",
    "# For this task, 2D and 3D features are not needed.\n",
    "data_sample = demo_dataset[2906]\n",
    "prompt_template, ground_truth_answer, _,_ , _ = data_sample\n",
    "\n",
    "\n",
    "# Get the description for visualization\n",
    "description_for_demo = demo_dataset.json_list[2906]['description']\n",
    "\n",
    "print(\"Successfully loaded one sample for demonstration.\")\n",
    "print(f\"Description: {description_for_demo}\")"
   ]
  },
  {
   "cell_type": "markdown",
   "id": "fcecc19a",
   "metadata": {},
   "source": [
    "The model performs inference using the Chain-of-Fragment (CoF) mechanism, meaning it generates corresponding fragments and then the complete molecule based on the descriptive text.\n",
    "\n",
    "If you want to get the full results on the test set, run our bash script in ./scripts/eval_description-based-mol-gen.sh"
   ]
  },
  {
   "cell_type": "code",
   "execution_count": null,
   "id": "d4161dbf",
   "metadata": {},
   "outputs": [
    {
     "name": "stderr",
     "output_type": "stream",
     "text": [
      "We detected that you are passing `past_key_values` as a tuple and this is deprecated and will be removed in v4.43. Please use an appropriate `Cache` class (https://huggingface.co/docs/transformers/v4.41.3/en/internal/generation_utils#transformers.Cache)\n"
     ]
    },
    {
     "name": "stdout",
     "output_type": "stream",
     "text": [
      "--- Multi-Modal Prompt ---\n",
      "Please give me molecular fragments based on the description. And then give me the molecular SMILES based on both the fragments and the description. The description is: The molecule is a N-arylpiperazine that is piperazine carrying a 3-chlorophenyl substituent at position 1. It is a metabolite of the antidepressant drug trazodone. It has a role as a drug metabolite, a serotonergic agonist, an environmental contaminant and a xenobiotic. It is a N-arylpiperazine and a member of monochlorobenzenes.\n",
      "\n",
      "--- Ground Truth Answer ---\n",
      "Molecular fragments are: <|C1CNCCN1|><|Clc1ccccc1|> Molecular SMILES is: Clc1cccc(N2CCNCC2)c1\n",
      "\n",
      "--- Model Response ---\n",
      " Molecular fragments are: <|C1CNCCN1|><|Clc1ccccc1|> Molecular SMILES is: Clc1cccc(N2CCNCC2)c1\n"
     ]
    },
    {
     "data": {
      "image/png": "[encoded data removed]",
      "text/plain": [
       "<IPython.core.display.Image object>"
      ]
     },
     "execution_count": 4,
     "metadata": {},
     "output_type": "execute_result"
    }
   ],
   "source": [
    "# The prompt comes directly from our loaded data sample\n",
    "prompt_multi_modal = prompt_template\n",
    "# Use the HMEProcessor to correctly combine text and modal features\n",
    "inputs_multi_modal = processor(\n",
    "    text=prompt_multi_modal,\n",
    "    return_tensors=\"pt\"\n",
    ")\n",
    "\n",
    "inputs_multi_modal = {\n",
    "    k: v.to(DEVICE) if isinstance(v, torch.Tensor) else v\n",
    "    for k, v in inputs_multi_modal.items()\n",
    "}\n",
    "\n",
    "# Generate a response\n",
    "with torch.no_grad():\n",
    "    output_ids_mm = model.generate(\n",
    "        **inputs_multi_modal,\n",
    "        max_new_tokens=512,\n",
    "        do_sample=True,\n",
    "        eos_token_id=tokenizer.eos_token_id,\n",
    "    )\n",
    "\n",
    "# Decode and print the response\n",
    "response_ids_mm = output_ids_mm[:, inputs_multi_modal['input_ids'].shape[1]:]\n",
    "response_text_mm = tokenizer.batch_decode(response_ids_mm, skip_special_tokens=True)[0]\n",
    "\n",
    "print(\"--- Multi-Modal Prompt ---\")\n",
    "print(prompt_multi_modal)\n",
    "print(\"\\n--- Ground Truth Answer ---\")\n",
    "print(ground_truth_answer)\n",
    "print(\"\\n--- Model Response ---\")\n",
    "print(response_text_mm)\n",
    "\n",
    "print(\"The generated molecule is visualized below:\")\n",
    "from rdkit import Chem\n",
    "from rdkit.Chem import Draw\n",
    "\n",
    "gt_smiles = ground_truth_answer.split('SMILES is: ')[-1].strip()\n",
    "gen_smiles = response_text_mm.split('SMILES is: ')[-1].strip()\n",
    "\n",
    "mols = [Chem.MolFromSmiles(gt_smiles), Chem.MolFromSmiles(gen_smiles)]\n",
    "img = Draw.MolsToGridImage(mols, molsPerRow=2, subImgSize=(300,300), legends=[\"Ground Truth\", \"Generated\"])\n",
    "img"
   ]
  },
  {
   "cell_type": "markdown",
   "id": "fb5d712d",
   "metadata": {},
   "source": [
    "**Multi-Fragment-Conditional Molecule Generation**: the following code illustrates how the generated molecule is broken down into fragments."
   ]
  },
  {
   "cell_type": "code",
   "execution_count": null,
   "id": "a3b19a63",
   "metadata": {},
   "outputs": [
    {
     "name": "stdout",
     "output_type": "stream",
     "text": [
      "The generated SMILES contains the following 2 fragments: <|Clc1ccccc1|><|C1CNCCN1|>\n",
      "The fragmented molecule is visualized below:\n"
     ]
    },
    {
     "data": {
      "image/svg+xml": [
       "<svg xmlns=\"http://www.w3.org/2000/svg\" xmlns:rdkit=\"http://www.rdkit.org/xml\" xmlns:xlink=\"http://www.w3.org/1999/xlink\" version=\"1.1\" baseProfile=\"full\" xml:space=\"preserve\" width=\"200px\" height=\"200px\" viewBox=\"0 0 200 200\">\n",
       "<!-- END OF HEADER -->\n",
       "<rect style=\"opacity:1.0;fill:#FFFFFF;stroke:none\" width=\"200.0\" height=\"200.0\" x=\"0.0\" y=\"0.0\"> </rect>\n",
       "<path class=\"bond-0 atom-0 atom-1\" d=\"M 32.8,113.1 L 37.4,113.7 L 39.2,118.0 L 22.1,140.3 L 15.7,135.3 Z\" style=\"fill:#BFCFE4;fill-rule:evenodd;fill-opacity:1;stroke:#BFCFE4;stroke-width:0.0px;stroke-linecap:butt;stroke-linejoin:miter;stroke-opacity:1;\"/>\n",
       "<path class=\"bond-1 atom-1 atom-2\" d=\"M 21.1,85.1 L 30.4,86.3 L 40.2,110.0 L 37.4,113.7 L 32.8,113.1 Z\" style=\"fill:#BFCFE4;fill-rule:evenodd;fill-opacity:1;stroke:#BFCFE4;stroke-width:0.0px;stroke-linecap:butt;stroke-linejoin:miter;stroke-opacity:1;\"/>\n",
       "<path class=\"bond-6 atom-1 atom-12\" d=\"M 40.2,110.0 L 65.7,113.3 L 69.3,122.0 L 39.2,118.0 L 37.4,113.7 Z\" style=\"fill:#BFCFE4;fill-rule:evenodd;fill-opacity:1;stroke:#BFCFE4;stroke-width:0.0px;stroke-linecap:butt;stroke-linejoin:miter;stroke-opacity:1;\"/>\n",
       "<path class=\"bond-2 atom-2 atom-3\" d=\"M 42.4,57.3 L 46.0,65.9 L 30.4,86.3 L 21.1,85.1 Z\" style=\"fill:#BFCFE4;fill-rule:evenodd;fill-opacity:1;stroke:#BFCFE4;stroke-width:0.0px;stroke-linecap:butt;stroke-linejoin:miter;stroke-opacity:1;\"/>\n",
       "<path class=\"bond-3 atom-3 atom-4\" d=\"M 42.4,57.3 L 77.1,61.8 L 71.5,69.3 L 46.0,65.9 Z\" style=\"fill:#BFCFE4;fill-rule:evenodd;fill-opacity:1;stroke:#BFCFE4;stroke-width:0.0px;stroke-linecap:butt;stroke-linejoin:miter;stroke-opacity:1;\"/>\n",
       "<path class=\"bond-4 atom-4 atom-5\" d=\"M 77.1,61.8 L 90.6,94.2 L 81.3,93.0 L 71.5,69.3 Z\" style=\"fill:#BFCFE4;fill-rule:evenodd;fill-opacity:1;stroke:#BFCFE4;stroke-width:0.0px;stroke-linecap:butt;stroke-linejoin:miter;stroke-opacity:1;\"/>\n",
       "<path class=\"bond-5 atom-5 atom-12\" d=\"M 81.3,93.0 L 90.6,94.2 L 69.3,122.0 L 65.7,113.3 Z\" style=\"fill:#BFCFE4;fill-rule:evenodd;fill-opacity:1;stroke:#BFCFE4;stroke-width:0.0px;stroke-linecap:butt;stroke-linejoin:miter;stroke-opacity:1;\"/>\n",
       "<path class=\"bond-11 atom-6 atom-11\" d=\"M 111.4,96.9 L 120.6,98.1 L 130.5,121.8 L 124.8,129.2 Z\" style=\"fill:#D9D9D9;fill-rule:evenodd;fill-opacity:1;stroke:#D9D9D9;stroke-width:0.0px;stroke-linecap:butt;stroke-linejoin:miter;stroke-opacity:1;\"/>\n",
       "<path class=\"bond-12 atom-6 atom-7\" d=\"M 132.7,69.1 L 136.2,77.7 L 120.6,98.1 L 111.4,96.9 Z\" style=\"fill:#D9D9D9;fill-rule:evenodd;fill-opacity:1;stroke:#D9D9D9;stroke-width:0.0px;stroke-linecap:butt;stroke-linejoin:miter;stroke-opacity:1;\"/>\n",
       "<path class=\"bond-7 atom-7 atom-8\" d=\"M 132.7,69.1 L 167.4,73.7 L 161.7,81.1 L 136.2,77.7 Z\" style=\"fill:#D9D9D9;fill-rule:evenodd;fill-opacity:1;stroke:#D9D9D9;stroke-width:0.0px;stroke-linecap:butt;stroke-linejoin:miter;stroke-opacity:1;\"/>\n",
       "<path class=\"bond-8 atom-8 atom-9\" d=\"M 167.4,73.7 L 180.8,106.0 L 171.5,104.8 L 161.7,81.1 Z\" style=\"fill:#D9D9D9;fill-rule:evenodd;fill-opacity:1;stroke:#D9D9D9;stroke-width:0.0px;stroke-linecap:butt;stroke-linejoin:miter;stroke-opacity:1;\"/>\n",
       "<path class=\"bond-9 atom-9 atom-10\" d=\"M 171.5,104.8 L 180.8,106.0 L 159.5,133.8 L 155.9,125.2 Z\" style=\"fill:#D9D9D9;fill-rule:evenodd;fill-opacity:1;stroke:#D9D9D9;stroke-width:0.0px;stroke-linecap:butt;stroke-linejoin:miter;stroke-opacity:1;\"/>\n",
       "<path class=\"bond-10 atom-10 atom-11\" d=\"M 130.5,121.8 L 155.9,125.2 L 159.5,133.8 L 124.8,129.2 Z\" style=\"fill:#D9D9D9;fill-rule:evenodd;fill-opacity:1;stroke:#D9D9D9;stroke-width:0.0px;stroke-linecap:butt;stroke-linejoin:miter;stroke-opacity:1;\"/>\n",
       "<ellipse cx=\"15.2\" cy=\"137.9\" rx=\"6.1\" ry=\"6.6\" class=\"atom-0\" style=\"fill:#BFCFE4;fill-rule:evenodd;stroke:#BFCFE4;stroke-width:1.0px;stroke-linecap:butt;stroke-linejoin:miter;stroke-opacity:1\"/>\n",
       "<ellipse cx=\"37.4\" cy=\"113.7\" rx=\"6.1\" ry=\"6.1\" class=\"atom-1\" style=\"fill:#BFCFE4;fill-rule:evenodd;stroke:#BFCFE4;stroke-width:1.0px;stroke-linecap:butt;stroke-linejoin:miter;stroke-opacity:1\"/>\n",
       "<ellipse cx=\"25.8\" cy=\"85.7\" rx=\"6.1\" ry=\"6.1\" class=\"atom-2\" style=\"fill:#BFCFE4;fill-rule:evenodd;stroke:#BFCFE4;stroke-width:1.0px;stroke-linecap:butt;stroke-linejoin:miter;stroke-opacity:1\"/>\n",
       "<ellipse cx=\"44.2\" cy=\"61.6\" rx=\"6.1\" ry=\"6.1\" class=\"atom-3\" style=\"fill:#BFCFE4;fill-rule:evenodd;stroke:#BFCFE4;stroke-width:1.0px;stroke-linecap:butt;stroke-linejoin:miter;stroke-opacity:1\"/>\n",
       "<ellipse cx=\"74.3\" cy=\"65.6\" rx=\"6.1\" ry=\"6.1\" class=\"atom-4\" style=\"fill:#BFCFE4;fill-rule:evenodd;stroke:#BFCFE4;stroke-width:1.0px;stroke-linecap:butt;stroke-linejoin:miter;stroke-opacity:1\"/>\n",
       "<ellipse cx=\"85.9\" cy=\"93.6\" rx=\"6.1\" ry=\"6.1\" class=\"atom-5\" style=\"fill:#BFCFE4;fill-rule:evenodd;stroke:#BFCFE4;stroke-width:1.0px;stroke-linecap:butt;stroke-linejoin:miter;stroke-opacity:1\"/>\n",
       "<ellipse cx=\"116.0\" cy=\"97.5\" rx=\"6.1\" ry=\"6.1\" class=\"atom-6\" style=\"fill:#D9D9D9;fill-rule:evenodd;stroke:#D9D9D9;stroke-width:1.0px;stroke-linecap:butt;stroke-linejoin:miter;stroke-opacity:1\"/>\n",
       "<ellipse cx=\"134.5\" cy=\"73.4\" rx=\"6.1\" ry=\"6.1\" class=\"atom-7\" style=\"fill:#D9D9D9;fill-rule:evenodd;stroke:#D9D9D9;stroke-width:1.0px;stroke-linecap:butt;stroke-linejoin:miter;stroke-opacity:1\"/>\n",
       "<ellipse cx=\"164.5\" cy=\"77.4\" rx=\"6.1\" ry=\"6.1\" class=\"atom-8\" style=\"fill:#D9D9D9;fill-rule:evenodd;stroke:#D9D9D9;stroke-width:1.0px;stroke-linecap:butt;stroke-linejoin:miter;stroke-opacity:1\"/>\n",
       "<ellipse cx=\"180.4\" cy=\"105.4\" rx=\"10.5\" ry=\"6.1\" class=\"atom-9\" style=\"fill:#D9D9D9;fill-rule:evenodd;stroke:#D9D9D9;stroke-width:1.0px;stroke-linecap:butt;stroke-linejoin:miter;stroke-opacity:1\"/>\n",
       "<ellipse cx=\"157.7\" cy=\"129.5\" rx=\"6.1\" ry=\"6.1\" class=\"atom-10\" style=\"fill:#D9D9D9;fill-rule:evenodd;stroke:#D9D9D9;stroke-width:1.0px;stroke-linecap:butt;stroke-linejoin:miter;stroke-opacity:1\"/>\n",
       "<ellipse cx=\"127.6\" cy=\"125.5\" rx=\"6.1\" ry=\"6.1\" class=\"atom-11\" style=\"fill:#D9D9D9;fill-rule:evenodd;stroke:#D9D9D9;stroke-width:1.0px;stroke-linecap:butt;stroke-linejoin:miter;stroke-opacity:1\"/>\n",
       "<ellipse cx=\"67.5\" cy=\"117.7\" rx=\"6.1\" ry=\"6.1\" class=\"atom-12\" style=\"fill:#BFCFE4;fill-rule:evenodd;stroke:#BFCFE4;stroke-width:1.0px;stroke-linecap:butt;stroke-linejoin:miter;stroke-opacity:1\"/>\n",
       "<path class=\"bond-0 atom-0 atom-1\" d=\"M 20.5,135.8 L 37.4,113.7\" style=\"fill:none;fill-rule:evenodd;stroke:#000000;stroke-width:1.0px;stroke-linecap:butt;stroke-linejoin:miter;stroke-opacity:1\"/>\n",
       "<path class=\"bond-1 atom-1 atom-2\" d=\"M 37.4,113.7 L 25.8,85.7\" style=\"fill:none;fill-rule:evenodd;stroke:#000000;stroke-width:1.0px;stroke-linecap:butt;stroke-linejoin:miter;stroke-opacity:1\"/>\n",
       "<path class=\"bond-1 atom-1 atom-2\" d=\"M 40.6,109.6 L 31.0,86.4\" style=\"fill:none;fill-rule:evenodd;stroke:#000000;stroke-width:1.0px;stroke-linecap:butt;stroke-linejoin:miter;stroke-opacity:1\"/>\n",
       "<path class=\"bond-2 atom-2 atom-3\" d=\"M 25.8,85.7 L 44.2,61.6\" style=\"fill:none;fill-rule:evenodd;stroke:#000000;stroke-width:1.0px;stroke-linecap:butt;stroke-linejoin:miter;stroke-opacity:1\"/>\n",
       "<path class=\"bond-3 atom-3 atom-4\" d=\"M 44.2,61.6 L 74.3,65.6\" style=\"fill:none;fill-rule:evenodd;stroke:#000000;stroke-width:1.0px;stroke-linecap:butt;stroke-linejoin:miter;stroke-opacity:1\"/>\n",
       "<path class=\"bond-3 atom-3 atom-4\" d=\"M 46.2,66.5 L 71.1,69.7\" style=\"fill:none;fill-rule:evenodd;stroke:#000000;stroke-width:1.0px;stroke-linecap:butt;stroke-linejoin:miter;stroke-opacity:1\"/>\n",
       "<path class=\"bond-4 atom-4 atom-5\" d=\"M 74.3,65.6 L 85.9,93.6\" style=\"fill:none;fill-rule:evenodd;stroke:#000000;stroke-width:1.0px;stroke-linecap:butt;stroke-linejoin:miter;stroke-opacity:1\"/>\n",
       "<path class=\"bond-5 atom-5 atom-12\" d=\"M 85.9,93.6 L 67.5,117.7\" style=\"fill:none;fill-rule:evenodd;stroke:#000000;stroke-width:1.0px;stroke-linecap:butt;stroke-linejoin:miter;stroke-opacity:1\"/>\n",
       "<path class=\"bond-5 atom-5 atom-12\" d=\"M 80.7,92.9 L 65.5,112.8\" style=\"fill:none;fill-rule:evenodd;stroke:#000000;stroke-width:1.0px;stroke-linecap:butt;stroke-linejoin:miter;stroke-opacity:1\"/>\n",
       "<path class=\"bond-6 atom-12 atom-1\" d=\"M 67.5,117.7 L 37.4,113.7\" style=\"fill:none;fill-rule:evenodd;stroke:#000000;stroke-width:1.0px;stroke-linecap:butt;stroke-linejoin:miter;stroke-opacity:1\"/>\n",
       "<path class=\"bond-7 atom-7 atom-8\" d=\"M 134.5,73.4 L 164.5,77.4\" style=\"fill:none;fill-rule:evenodd;stroke:#000000;stroke-width:1.0px;stroke-linecap:butt;stroke-linejoin:miter;stroke-opacity:1\"/>\n",
       "<path class=\"bond-8 atom-8 atom-9\" d=\"M 164.5,77.4 L 174.0,100.1\" style=\"fill:none;fill-rule:evenodd;stroke:#000000;stroke-width:1.0px;stroke-linecap:butt;stroke-linejoin:miter;stroke-opacity:1\"/>\n",
       "<path class=\"bond-9 atom-9 atom-10\" d=\"M 172.1,110.7 L 157.7,129.5\" style=\"fill:none;fill-rule:evenodd;stroke:#000000;stroke-width:1.0px;stroke-linecap:butt;stroke-linejoin:miter;stroke-opacity:1\"/>\n",
       "<path class=\"bond-10 atom-10 atom-11\" d=\"M 157.7,129.5 L 127.6,125.5\" style=\"fill:none;fill-rule:evenodd;stroke:#000000;stroke-width:1.0px;stroke-linecap:butt;stroke-linejoin:miter;stroke-opacity:1\"/>\n",
       "<path class=\"bond-11 atom-11 atom-6\" d=\"M 127.6,125.5 L 118.2,102.8\" style=\"fill:none;fill-rule:evenodd;stroke:#000000;stroke-width:1.0px;stroke-linecap:butt;stroke-linejoin:miter;stroke-opacity:1\"/>\n",
       "<path class=\"bond-12 atom-6 atom-7\" d=\"M 120.1,92.2 L 134.5,73.4\" style=\"fill:none;fill-rule:evenodd;stroke:#000000;stroke-width:1.0px;stroke-linecap:butt;stroke-linejoin:miter;stroke-opacity:1\"/>\n",
       "<path class=\"bond-13 atom-5 atom-6\" d=\"M 85.9,93.6 L 111.7,97.0\" style=\"fill:none;fill-rule:evenodd;stroke:#000000;stroke-width:1.0px;stroke-linecap:butt;stroke-linejoin:miter;stroke-opacity:1\"/>\n",
       "<path d=\"M 26.3,87.1 L 25.8,85.7 L 26.7,84.5\" style=\"fill:none;stroke:#000000;stroke-width:1.0px;stroke-linecap:butt;stroke-linejoin:miter;stroke-opacity:1;\"/>\n",
       "<path d=\"M 43.3,62.8 L 44.2,61.6 L 45.7,61.8\" style=\"fill:none;stroke:#000000;stroke-width:1.0px;stroke-linecap:butt;stroke-linejoin:miter;stroke-opacity:1;\"/>\n",
       "<path d=\"M 72.8,65.4 L 74.3,65.6 L 74.9,67.0\" style=\"fill:none;stroke:#000000;stroke-width:1.0px;stroke-linecap:butt;stroke-linejoin:miter;stroke-opacity:1;\"/>\n",
       "<path d=\"M 136.0,73.6 L 134.5,73.4 L 133.7,74.4\" style=\"fill:none;stroke:#000000;stroke-width:1.0px;stroke-linecap:butt;stroke-linejoin:miter;stroke-opacity:1;\"/>\n",
       "<path d=\"M 163.0,77.2 L 164.5,77.4 L 165.0,78.5\" style=\"fill:none;stroke:#000000;stroke-width:1.0px;stroke-linecap:butt;stroke-linejoin:miter;stroke-opacity:1;\"/>\n",
       "<path d=\"M 158.4,128.5 L 157.7,129.5 L 156.2,129.3\" style=\"fill:none;stroke:#000000;stroke-width:1.0px;stroke-linecap:butt;stroke-linejoin:miter;stroke-opacity:1;\"/>\n",
       "<path d=\"M 129.1,125.7 L 127.6,125.5 L 127.2,124.4\" style=\"fill:none;stroke:#000000;stroke-width:1.0px;stroke-linecap:butt;stroke-linejoin:miter;stroke-opacity:1;\"/>\n",
       "<path d=\"M 68.4,116.5 L 67.5,117.7 L 66.0,117.5\" style=\"fill:none;stroke:#000000;stroke-width:1.0px;stroke-linecap:butt;stroke-linejoin:miter;stroke-opacity:1;\"/>\n",
       "<path class=\"atom-0\" d=\"M 10.9 138.1 Q 10.9 136.0, 11.9 134.9 Q 12.9 133.7, 14.8 133.7 Q 16.6 133.7, 17.5 135.0 L 16.7 135.6 Q 16.0 134.7, 14.8 134.7 Q 13.5 134.7, 12.8 135.6 Q 12.1 136.5, 12.1 138.1 Q 12.1 139.8, 12.8 140.7 Q 13.5 141.5, 14.9 141.5 Q 15.9 141.5, 17.0 141.0 L 17.3 141.9 Q 16.9 142.2, 16.2 142.4 Q 15.5 142.5, 14.7 142.5 Q 12.9 142.5, 11.9 141.4 Q 10.9 140.2, 10.9 138.1 \" fill=\"#000000\"/>\n",
       "<path class=\"atom-0\" d=\"M 18.4 133.2 L 19.5 133.2 L 19.5 142.4 L 18.4 142.4 L 18.4 133.2 \" fill=\"#000000\"/>\n",
       "<path class=\"atom-6\" d=\"M 114.1 93.2 L 116.9 97.8 Q 117.2 98.2, 117.6 99.0 Q 118.1 99.8, 118.1 99.9 L 118.1 93.2 L 119.3 93.2 L 119.3 101.8 L 118.1 101.8 L 115.1 96.8 Q 114.7 96.3, 114.3 95.6 Q 114.0 94.9, 113.9 94.7 L 113.9 101.8 L 112.7 101.8 L 112.7 93.2 L 114.1 93.2 \" fill=\"#000000\"/>\n",
       "<path class=\"atom-9\" d=\"M 174.3 101.1 L 177.1 105.7 Q 177.4 106.1, 177.8 106.9 Q 178.3 107.7, 178.3 107.8 L 178.3 101.1 L 179.4 101.1 L 179.4 109.7 L 178.3 109.7 L 175.2 104.7 Q 174.9 104.1, 174.5 103.5 Q 174.1 102.8, 174.0 102.6 L 174.0 109.7 L 172.9 109.7 L 172.9 101.1 L 174.3 101.1 \" fill=\"#000000\"/>\n",
       "<path class=\"atom-9\" d=\"M 181.1 101.1 L 182.3 101.1 L 182.3 104.8 L 186.7 104.8 L 186.7 101.1 L 187.8 101.1 L 187.8 109.7 L 186.7 109.7 L 186.7 105.7 L 182.3 105.7 L 182.3 109.7 L 181.1 109.7 L 181.1 101.1 \" fill=\"#000000\"/>\n",
       "</svg>"
      ],
      "text/plain": [
       "<IPython.core.display.SVG object>"
      ]
     },
     "execution_count": 3,
     "metadata": {},
     "output_type": "execute_result"
    }
   ],
   "source": [
    "from hme.frg import get_frg_from_one_smiles\n",
    "from hme.psvae.mol_bpe import Tokenizer\n",
    "from IPython.display import SVG\n",
    "\n",
    "fragments,_,fragmented_mol=get_frg_from_one_smiles(gen_smiles,vocab_file='../src/hme/fragment_vocabs/vocab_800_other_tasks.txt',verbose=True)\n",
    "print(f'The generated SMILES contains the following {len(fragments.split(\"><\"))} fragments: {fragments}')\n",
    "\n",
    "print('The fragmented molecule is visualized below:')\n",
    "SVG(fragmented_mol[0].to_SVG())"
   ]
  }
 ],
 "metadata": {
  "kernelspec": {
   "display_name": "mollama",
   "language": "python",
   "name": "python3"
  },
  "language_info": {
   "codemirror_mode": {
    "name": "ipython",
    "version": 3
   },
   "file_extension": ".py",
   "mimetype": "text/x-python",
   "name": "python",
   "nbconvert_exporter": "python",
   "pygments_lexer": "ipython3",
   "version": "3.10.13"
  }
 },
 "nbformat": 4,
 "nbformat_minor": 5
}
